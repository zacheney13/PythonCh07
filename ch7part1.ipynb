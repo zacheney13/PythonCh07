{
 "cells": [
  {
   "cell_type": "markdown",
   "metadata": {},
   "source": [
    "<style>\n",
    "\th1 {\n",
    "\t--\tbackground-color: grey;\n",
    "\t\tcolor: yellow\n",
    "\t\tborder: 3px solid grey\n",
    "\n",
    "\t}\n",
    "\tp {\n",
    "\t\tbackground-color: grey;\n",
    "\t\tcolor: white\n",
    "\t\tborder: 3px solid grey\n",
    "\n",
    "\t}\n",
    "</style>\n",
    "<h1> Chapter 7 List: Part 1</h1>"
   ]
  },
  {
   "cell_type": "markdown",
   "metadata": {},
   "source": [
    "<p style=\"margin-left:40px\"> 7.1 Basic Examples of List</p>\n",
    "\n",
    "<p style=\"margin-left:40px\"> 7.2 Understanding the \"Mutable Data Type\" </p>\n",
    "\n",
    "<p style=\"margin-left:40px\"> 7.3 Handing the list index out of range error </p>\n",
    "\n",
    "<p style=\"margin-left:40px\"> 7.4 List of List </p>\n",
    "\n",
    "<p style=\"margin-left:40px\"> 7.5 any() and all() </p>\n"
   ]
  },
  {
   "cell_type": "markdown",
   "metadata": {},
   "source": [
    "***\n",
    "\n",
    "## <p style=\"background-color: grey; color: white \"> ◼️  List </p>\n",
    "# <p style=\"font-family: Arial; font-size:1.4em;color:red;\"> 1. Basic Examples of List</p>\n"
   ]
  },
  {
   "cell_type": "markdown",
   "metadata": {},
   "source": [
    "<style>\n",
    "\th3{\n",
    "\t\tbackground-color: grey\n",
    "\t\tcolor: white\n",
    "\t}\n",
    "</style>\n",
    "\n",
    "<h1> Understanding the \"Mutable Data Type\"  </h1>\n",
    "\n",
    "- Run all the following code cells and check out the result of code segments"
   ]
  },
  {
   "cell_type": "markdown",
   "metadata": {},
   "source": [
    "#### <p style=\"font-family: Arial; font-size:1.4em; background-color: yellow; color:black;\"> Problem #1.0 </p>\n",
    "\n",
    "#### Run all the cells and figure out the Mutal Data Type "
   ]
  },
  {
   "cell_type": "markdown",
   "metadata": {},
   "source": [
    "### What is the value of numbers1 after run the following code cell?"
   ]
  },
  {
   "cell_type": "code",
   "execution_count": 1,
   "metadata": {},
   "outputs": [
    {
     "data": {
      "text/plain": [
       "[6, 7]"
      ]
     },
     "execution_count": 1,
     "metadata": {},
     "output_type": "execute_result"
    }
   ],
   "source": [
    "numbers1 = [1,2,3,4,5,6,7]\n",
    "numbers2 = numbers1\n",
    "\n",
    "del numbers2[:5]\n",
    "\n",
    "numbers1"
   ]
  },
  {
   "cell_type": "markdown",
   "metadata": {},
   "source": [
    "#### <p style=\"font-family: Arial; font-size:1.4em; background-color: yellow; color:black;\"> Problem #1.1 </p>\n",
    "\n",
    "#### Figure out the difference between the following two code segments\n",
    "\n",
    "#### The first code segment: \n",
    "- the number is integer value in the function. \n",
    "- The value of the number is changed by the function\n",
    "- Check the value in the caller function main()\n",
    "- The change of the value of the number is not reflected in the caller function\n",
    "\n",
    "#### The second code segment:\n",
    "- The list is a mutable data type\n",
    "- The value of the list is changed by the function\n",
    "- Check the value in the caller function main()\n",
    "- The change of the value of the list is reflected in the caller function\n",
    "\n",
    "## Explain the output of the following code segments. <br> Elaborate the reason why the output is as such."
   ]
  },
  {
   "cell_type": "code",
   "execution_count": null,
   "metadata": {},
   "outputs": [
    {
     "ename": "SyntaxError",
     "evalue": "cannot assign to function call here. Maybe you meant '==' instead of '='? (4204530747.py, line 2)",
     "output_type": "error",
     "traceback": [
      "\u001b[1;36m  Cell \u001b[1;32mIn[9], line 2\u001b[1;36m\u001b[0m\n\u001b[1;33m    number(0) = 100\u001b[0m\n\u001b[1;37m    ^\u001b[0m\n\u001b[1;31mSyntaxError\u001b[0m\u001b[1;31m:\u001b[0m cannot assign to function call here. Maybe you meant '==' instead of '='?\n"
     ]
    }
   ],
   "source": [
    "def myfuntion(number):\n",
    "    number = 100\n",
    "\n",
    "number = -1\n",
    "myfuntion(number)\n",
    "print ('number in main():', number)\n",
    "# number in main(): -1. Change of the value of the number is not reflected in the caller function"
   ]
  },
  {
   "cell_type": "code",
   "execution_count": 3,
   "metadata": {},
   "outputs": [
    {
     "name": "stdout",
     "output_type": "stream",
     "text": [
      "numbers in main(): [100]\n"
     ]
    }
   ],
   "source": [
    "def myfunction(numbers):\n",
    "    numbers[0] = 100\n",
    "\n",
    "numbers = [-1]\n",
    "myfunction(numbers)\n",
    "print ('numbers in main():', numbers)\n",
    "# numbers in main(): [100]. Change of the value of the list is reflected in the caller function\n"
   ]
  },
  {
   "cell_type": "markdown",
   "metadata": {},
   "source": [
    "#### <p style=\"font-family: Arial; font-size:1.4em; background-color: yellow; color:black;\"> Problem #1.2 </p>\n",
    "\n",
    "#### List the other data types that are working as the same way as the list in the above code segments. \n",
    "### Choose the data types from the following list: \n",
    "- String\n",
    "- Tuple\n",
    "- <b> Dictionary - mutable </b>\n",
    "- <b> Set - mutable </b>\n",
    "\n",
    "- int\n",
    "- float\n",
    "- boolean\n",
    "\n"
   ]
  },
  {
   "cell_type": "markdown",
   "metadata": {},
   "source": [
    "#### <p style=\"font-family: Arial; font-size:1.4em; background-color: yellow; color:black;\"> Problem #1.3 </p>\n",
    "\n",
    "#### Review the following methods of the list data type. \n",
    "- append()\n",
    "- extend()\n",
    "- insert()\n",
    "- remove()\n",
    "- sort()\n",
    "- reverse()\n",
    "- pop()\n",
    "- count()\n",
    "- index()\n",
    "- copy()\n",
    "- clear() \n",
    "\n",
    "\n"
   ]
  },
  {
   "cell_type": "markdown",
   "metadata": {},
   "source": [
    "## Concatenation of the List\n",
    "```\n",
    "n1 = [1,2,3]\n",
    "n2 = [4,5,6]\n",
    "```\n",
    "\n",
    "### complete your code here to concatenate the two lists"
   ]
  },
  {
   "cell_type": "code",
   "execution_count": 10,
   "metadata": {},
   "outputs": [
    {
     "name": "stdout",
     "output_type": "stream",
     "text": [
      "[1, 2, 3, 4, 5, 6]\n"
     ]
    }
   ],
   "source": [
    "n1 = [1, 2, 3]\n",
    "n2 = [4, 5, 6]\n",
    "n1.extend(n2)\n",
    "print(n1)"
   ]
  },
  {
   "cell_type": "markdown",
   "metadata": {},
   "source": [
    "## Sort the list in the descending order\n",
    "```\n",
    "import random\n",
    "numbers = random.sample(range(1,100), 10)\n",
    "print (numbers)\n",
    "```\n",
    "\n",
    "### complete your code here to sort the list in the descending order\n",
    "\n"
   ]
  },
  {
   "cell_type": "code",
   "execution_count": 13,
   "metadata": {},
   "outputs": [
    {
     "name": "stdout",
     "output_type": "stream",
     "text": [
      "[6, 8, 10, 21, 30, 33, 47, 49, 67, 99]\n"
     ]
    }
   ],
   "source": [
    "import random\n",
    "numbers = random.sample(range(1,100), 10)\n",
    "numbers.sort()\n",
    "print (numbers)"
   ]
  },
  {
   "cell_type": "markdown",
   "metadata": {},
   "source": [
    "## Figoure out the difference between the following statements\n",
    "```\n",
    "numbers1 = [1,2,3,4,5,6,7,8,9,10]\n",
    "numbers2 = numbers1\n",
    "numbers3 = number1[:]\n",
    "numbers4 = number1.copy()\n",
    "```\n",
    "\n",
    "### complete your code here to test the above statements\n",
    "### Make some changes to the list numbers1 and check the output of numbers2, numbers3, and numbers4\n",
    "### Elaborate the reason why the output is as such. \n",
    "\n",
    "\n"
   ]
  },
  {
   "cell_type": "code",
   "execution_count": 27,
   "metadata": {},
   "outputs": [
    {
     "name": "stdout",
     "output_type": "stream",
     "text": [
      "\n",
      " [1, 2, 3, 4, 5] \n",
      " [1, 2, 3, 4, 5] \n",
      " [1, 2, 3, 4, 5, 6, 7, 8, 9, 10] \n",
      " [1, 2, 3, 4, 5, 6, 7, 8, 9, 10]\n"
     ]
    }
   ],
   "source": [
    "numbers1 = [1,2,3,4,5,6,7,8,9,10]\n",
    "numbers2 = numbers1\n",
    "numbers3 = numbers1[:]\n",
    "numbers4 = numbers1.copy()\n",
    "del numbers1[5:]\n",
    "print( '\\n', numbers1, '\\n', numbers2, '\\n', numbers3, '\\n', numbers4)\n",
    "\n",
    "# Only list 1 and 2 are changed by modifying numbers1, this is because numbers2 directly equals numbers1 \n",
    "# The difference is that numbers3 and numbers4 create new list copies of numbers1 rather than utilizing the same instance of numbers1 like numbers2 does"
   ]
  },
  {
   "cell_type": "markdown",
   "metadata": {},
   "source": [
    "<mark> Save your file by pressing \"Ctrl+S\" or \"git commit -m \"your message\"\" </mark> "
   ]
  },
  {
   "cell_type": "markdown",
   "metadata": {},
   "source": [
    "***\n",
    "\n",
    "## <p style=\"background-color: grey; color: white \"> ◼️  List </p>\n",
    "# <p style=\"font-family: Arial; font-size:1.4em;color:red;\"> 2. Understanding the \"Immutable Data Type\" </p>\n"
   ]
  },
  {
   "cell_type": "markdown",
   "metadata": {},
   "source": [
    "# Object Identity\n",
    "- this specific memory address is what you’ll know as the object’s identity. \n",
    "- This identity is a unique identifier that distinguishes one object from others.\n",
    "- You can use the id() function to find out the identity of an object.\n",
    "\n",
    "\n",
    "\n",
    "\n",
    "\n",
    "\n",
    "\n"
   ]
  },
  {
   "cell_type": "markdown",
   "metadata": {},
   "source": [
    "#### <p style=\"font-family: Arial; font-size:1.4em; background-color: yellow; color:black;\"> Problem #2.0 </p>"
   ]
  },
  {
   "cell_type": "markdown",
   "metadata": {},
   "source": [
    "### Even you use the same value, the identity of the object is different.\n",
    "### Because the integer is an immutable data type. \n",
    "\n",
    "#### Run the following code segment and figure out the identity of the object"
   ]
  },
  {
   "cell_type": "code",
   "execution_count": 28,
   "metadata": {},
   "outputs": [
    {
     "data": {
      "text/plain": [
       "140730376993496"
      ]
     },
     "execution_count": 28,
     "metadata": {},
     "output_type": "execute_result"
    }
   ],
   "source": [
    "num: int = 10\n",
    "\n",
    "id(num)"
   ]
  },
  {
   "cell_type": "code",
   "execution_count": 34,
   "metadata": {},
   "outputs": [
    {
     "data": {
      "text/plain": [
       "140730376993816"
      ]
     },
     "execution_count": 34,
     "metadata": {},
     "output_type": "execute_result"
    }
   ],
   "source": [
    "num = 20    # The identity of the object is different even if you use the same variable \n",
    "id(num)"
   ]
  },
  {
   "cell_type": "markdown",
   "metadata": {},
   "source": [
    "#### <p style=\"font-family: Arial; font-size:1.4em; background-color: yellow; color:black;\"> Problem #2.1 </p>"
   ]
  },
  {
   "cell_type": "markdown",
   "metadata": {},
   "source": [
    "### For the list data type, the identity of the object is the same.\n",
    "### Because the list is a mutable data type. \n",
    "\n",
    "#### Run the following code segment and figure out the identity of the list numbers1 and numbers2\n",
    "#### Elaborate the reason why the identity of the list is the same. "
   ]
  },
  {
   "cell_type": "code",
   "execution_count": null,
   "metadata": {},
   "outputs": [
    {
     "name": "stdout",
     "output_type": "stream",
     "text": [
      "2794055534528 2794055534528\n"
     ]
    }
   ],
   "source": [
    "numbers1 = [1,2,3]\n",
    "numbers2 = numbers1\n",
    "\n",
    "print (id(numbers1), id(numbers2))\n",
    "# The identity of the object is the same.\n",
    "\n",
    "# The id numbers are the same because they are using the same instance of the list in memory, numbers2 is not a new list"
   ]
  },
  {
   "cell_type": "markdown",
   "metadata": {},
   "source": [
    "#### <p style=\"font-family: Arial; font-size:1.4em; background-color: yellow; color:black;\"> Problem #2.2 </p>"
   ]
  },
  {
   "cell_type": "markdown",
   "metadata": {},
   "source": [
    "### In function call, the identities of the list are the same.  \n",
    "### Because the list is a mutable data type. \n",
    "```\n",
    "def myfunction(numbers):\n",
    "    numbers[0] = 100\n",
    "\n",
    "numbers = [1,2,3]\n",
    "myfunction(numbers)\n",
    "print (numbers)\n",
    "```\n",
    "### The identity of the list is the same.\n",
    "\n",
    "Make the code segment to show the identity of the list is the same.\n",
    "\n",
    "- Elaborate the reason why the identity of the list is the same. \n",
    "\n"
   ]
  },
  {
   "cell_type": "code",
   "execution_count": 44,
   "metadata": {},
   "outputs": [
    {
     "name": "stdout",
     "output_type": "stream",
     "text": [
      "[1, 2, 3]    ID:  2794055798784\n",
      "[100, 2, 3]  ID:  2794055798784\n"
     ]
    }
   ],
   "source": [
    "# Complete the above code segment to show the identity of the list is the same.\n",
    "def myfunction(numbers):\n",
    "    numbers[0] = 100\n",
    "\n",
    "numbers = [1,2,3]\n",
    "print(numbers, '   ID: ', id(numbers))\n",
    "myfunction(numbers)\n",
    "print(numbers, ' ID: ', id(numbers))\n",
    "\n",
    "#The ID are the same because lists are mutable. You create a list and it has an ID that references that list, regardless of the contents. "
   ]
  },
  {
   "cell_type": "markdown",
   "metadata": {},
   "source": [
    "<mark> Save your file by pressing \"Ctrl+S\" or \"git commit -m \"your message\"\" </mark> "
   ]
  },
  {
   "cell_type": "markdown",
   "metadata": {},
   "source": [
    "***\n",
    "\n",
    "## <p style=\"background-color: grey; color: white \"> ◼️  List </p>\n",
    "# <p style=\"font-family: Arial; font-size:1.4em;color:red;\"> 3. Handing the list index out of range error </p>\n"
   ]
  },
  {
   "cell_type": "markdown",
   "metadata": {},
   "source": [
    "#### <p style=\"font-family: Arial; font-size:1.4em; background-color: yellow; color:black;\"> Problem #3.1 </p>"
   ]
  },
  {
   "cell_type": "markdown",
   "metadata": {},
   "source": [
    "## [1] Figure out the index error situation "
   ]
  },
  {
   "cell_type": "markdown",
   "metadata": {},
   "source": [
    "### 1) Error or Not ?\n",
    "\n",
    "```\n",
    "numbers = [1,2,3]\n",
    "numbers[3] = 100\n",
    "```\n",
    "\n",
    "### 2) Error or Not ?\n",
    "```\n",
    "print (numbers[:10])\n",
    "```"
   ]
  },
  {
   "cell_type": "code",
   "execution_count": 7,
   "metadata": {},
   "outputs": [],
   "source": [
    "# Run the above code segments and figure out the index error situation \n",
    "\n"
   ]
  },
  {
   "cell_type": "code",
   "execution_count": 9,
   "metadata": {},
   "outputs": [
    {
     "name": "stdout",
     "output_type": "stream",
     "text": [
      "[2, 3]\n"
     ]
    }
   ],
   "source": [
    "numbers = [1,2,3]\n",
    "# print (numbers[3])\n",
    "\n",
    "print (numbers[1:10])"
   ]
  },
  {
   "cell_type": "markdown",
   "metadata": {},
   "source": [
    "#### <p style=\"font-family: Arial; font-size:1.4em; background-color: yellow; color:black;\"> Problem #3.2 </p>"
   ]
  },
  {
   "cell_type": "markdown",
   "metadata": {},
   "source": [
    "## [2] Handling the index error situation with the try-except statement"
   ]
  },
  {
   "cell_type": "markdown",
   "metadata": {},
   "source": [
    "### Understanding the try-except statement\n",
    "\n",
    "``` Basic Syntax of the try-except statement\n",
    "try:\n",
    "    # Code block where exception might occur\n",
    "    # Your code here\n",
    "except ExceptionType as e:\n",
    "    # Code block to execute if an exception occurs\n",
    "    # Your code here\n",
    "else:\n",
    "    # Code block to execute if no exception occurs\n",
    "    # Your code here\n",
    "```\n",
    "\n"
   ]
  },
  {
   "cell_type": "markdown",
   "metadata": {},
   "source": [
    "#### Example 1"
   ]
  },
  {
   "cell_type": "code",
   "execution_count": null,
   "metadata": {},
   "outputs": [],
   "source": [
    "#Example \n",
    "numbers = [1,2,3]\n",
    "try:\n",
    "    print (numbers[3])\n",
    "except Exception as e:\n",
    "    print (e)\n"
   ]
  },
  {
   "cell_type": "markdown",
   "metadata": {},
   "source": [
    "#### Example 2"
   ]
  },
  {
   "cell_type": "code",
   "execution_count": 11,
   "metadata": {},
   "outputs": [
    {
     "name": "stdout",
     "output_type": "stream",
     "text": [
      "IndexError: list index out of range\n"
     ]
    }
   ],
   "source": [
    "# Example 2\n",
    "numbers = [1,2,3]\n",
    "try:\n",
    "    print (numbers[10])\n",
    "except IndexError:\n",
    "    print ('IndexError: list index out of range')\n",
    "else:\n",
    "    print ('No error')\n",
    "\n",
    "\n"
   ]
  },
  {
   "cell_type": "markdown",
   "metadata": {},
   "source": [
    "## Main Adavatage of the try-except statement\n",
    "\n",
    "#### Die or Alive\n",
    "\n",
    "- In error situation, the program is not terminated. \n",
    "- The program can continue to run. \n",
    "\n",
    "\n",
    "\n"
   ]
  },
  {
   "cell_type": "markdown",
   "metadata": {},
   "source": [
    "## Error Keywords\n",
    "[Python Official Document for Errores and exception](https://docs.python.org/3/tutorial/errors.html)\n",
    "```\n",
    "Types of Exceptions\n",
    "Python has several built-in exception types. Some common ones include:\n",
    "- SyntaxError: Raised when there's a syntax error in the code.\n",
    "- NameError: Raised when a variable is not found in the local or global scope.\n",
    "- TypeError: Raised when an operation is performed on an inappropriate type.\n",
    "- ValueError: Raised when a function receives an argument of the correct type but an inappropriate value.\n",
    "- ZeroDivisionError: Raised when division or modulo by zero is performed.\n",
    "```\n",
    "\n"
   ]
  },
  {
   "cell_type": "markdown",
   "metadata": {},
   "source": [
    "#### <p style=\"font-family: Arial; font-size:1.4em; background-color: yellow; color:black;\"> Problem #3.3 </p>"
   ]
  },
  {
   "cell_type": "markdown",
   "metadata": {},
   "source": [
    "### Make the code segment to handle the index error situation with the try-except statement \n",
    "- There is 100 elements in the list numbers\n",
    "- A user will pick an index of the element in the list\n",
    "- Your program will print out the element in the list at the picked index \n",
    "- If the index is out of range, the program will print out the error message \"IndexError: list index out of range\". Use the try-except statement to handle the error.\n",
    "- If the index is valid, the program will print out the element in the list at the picked index \n",
    "\n"
   ]
  },
  {
   "cell_type": "code",
   "execution_count": 22,
   "metadata": {},
   "outputs": [
    {
     "name": "stdout",
     "output_type": "stream",
     "text": [
      "[42, 42, 58, 36, 20, 95, 71, 69, 27, 4, 90, 34, 31, 41, 50, 86, 50, 26, 84, 95, 79, 27, 35, 28, 35, 35, 65, 12, 94, 54, 70, 63, 31, 23, 33, 20, 68, 80, 88, 25, 55, 69, 69, 14, 13, 12, 83, 53, 84, 19, 18, 50, 92, 67, 60, 31, 84, 35, 33, 29, 88, 74, 9, 95, 76, 38, 66, 94, 80, 61, 81, 91, 65, 75, 40, 35, 92, 38, 93, 86, 46, 64, 97, 69, 46, 49, 3, 40, 76, 17, 86, 41, 5, 64, 25, 63, 47, 34, 11, 93]\n"
     ]
    }
   ],
   "source": [
    "import random\n",
    "\n",
    "numbers = [random.randint(1,100) for _ in range(100)] \n",
    "print (numbers) \n",
    "#**************************************************** \n",
    "# code here\n",
    "#****************************************************/"
   ]
  },
  {
   "cell_type": "markdown",
   "metadata": {},
   "source": [
    "<mark> Save your file by pressing \"Ctrl+S\" or \"git commit -m \"your message\"\" </mark> "
   ]
  },
  {
   "cell_type": "markdown",
   "metadata": {},
   "source": [
    "***\n",
    "\n",
    "## <p style=\"background-color: grey; color: white \"> ◼️  List </p>\n",
    "# <p style=\"font-family: Arial; font-size:1.4em;color:red;\"> 4. List of List \n",
    "\n"
   ]
  },
  {
   "cell_type": "markdown",
   "metadata": {},
   "source": [
    "#### <p style=\"font-family: Arial; font-size:1.4em; background-color: yellow; color:black;\"> Problem #4.1 </p>"
   ]
  },
  {
   "cell_type": "markdown",
   "metadata": {},
   "source": [
    "## There are students records in the list \"students\". \n",
    "```\n",
    "- The Student record consists of the student name, age, and the list of scores in Math, Science, and English\n",
    "- Make a function to print out the student record in the following format\n",
    "-- No return value. Use the same list of students. Do not create a new list. \n",
    "- Name: <student name> - Age: <student age> - Scores: <list of scores> - Total Score: <total score> - Average Score: <average score>\n",
    "- The function will take the list of students as an input and print out the student record for each student in the list\n",
    "\n",
    "students = [\n",
    "    [\"John\", 20, [80, 85, 90]],\n",
    "    [\"Jane\", 21, [82, 86, 89]],\n",
    "    [\"Doe\", 22, [84, 88, 92]]\n",
    "]\n",
    "```"
   ]
  },
  {
   "cell_type": "code",
   "execution_count": null,
   "metadata": {},
   "outputs": [],
   "source": [
    "def print_student_record(students):\n",
    "    ################################################### \n",
    "    # code here\n",
    "    # Name: John - Age: 20 - Scores: [80, 85, 90] - Total Score: 255 - Average Score: 85.0\n",
    "    # Name: Jane - Age: 21 - Scores: [82, 86, 89] - Total Score: 257 - Average Score: 85.67\n",
    "    # ...\n",
    "    ################################################### \n",
    "    print (\"**********************************************************************\")\n",
    "    for student in students:\n",
    "        print (f\"Name: {student[0]} - Age: {student[1]} - Scores: {student[2]} - Total Score: {sum(student[2])} - Average Score: {sum(student[2])/len(student[2])}\")\n",
    "\n",
    "    \n",
    "\n",
    "students = [\n",
    "    [\"John\", 20, [80, 85, 90]],\n",
    "    [\"Jane\", 21, [82, 86, 89]],\n",
    "    [\"Doe\", 22, [84, 88, 92]],\n",
    "    ['Kim', 23, [85, 89, 91]],\n",
    "    ['Lee', 24, [86, 90, 93]],\n",
    "    ['Alex', 25, [87, 91, 94]],\n",
    "    ['Kyle', 26, [88, 92, 95]],\n",
    "    ['Jenny', 27, [89, 93, 96]],\n",
    "    ['Jake', 28, [90, 94, 97]],\n",
    "    ['Jessica', 29, [91, 95, 98]],\n",
    "    ['Josh', 30, [92, 96, 99]],\n",
    "    ['Jill', 31, [93, 97, 100]] ]\n",
    "\n",
    "print_student_record(students)\n",
    "\n",
    "\n"
   ]
  },
  {
   "cell_type": "markdown",
   "metadata": {},
   "source": [
    "## Make the function \"sort_students\" to sort the students by the the following criteria\n",
    "\n",
    "- Key = 1: Sort the students by the total score\n",
    "- Key = 2: Sort the students by the age \n",
    "- Key = 3: Sort the students by the name \n",
    "- Ascending = True: Sort in ascending order\n",
    "- Ascending = False: Sort in descending order\n",
    "```\n",
    "def sort_students(students, key, ascending):\n",
    "    ################################################### \n",
    "    # code here\n",
    "    ################################################### \n",
    "\n",
    "```\n"
   ]
  },
  {
   "cell_type": "code",
   "execution_count": null,
   "metadata": {},
   "outputs": [],
   "source": [
    "def sort_students(students, key, ascending):\n",
    "    ################################################### \n",
    "    # code here\n",
    "    ################################################### \n",
    "\n",
    "\n",
    "\n",
    "print_student_record(students)\n",
    "sort_students(students, 1, True)\n",
    "print_student_record(students)\n",
    "sort_students(students, 2, False)\n",
    "print_student_record(students)\n",
    "sort_students(students, 3, True)\n",
    "print_student_record(students)\n"
   ]
  },
  {
   "cell_type": "markdown",
   "metadata": {},
   "source": [
    "#### <p style=\"font-family: Arial; font-size:1.4em; background-color: yellow; color:black;\"> Problem #4.2 </p>"
   ]
  },
  {
   "cell_type": "markdown",
   "metadata": {},
   "source": [
    "## Make the function \"reconstruct_list(rows, cols)\" that reconstructs the list of integers in the following way\n",
    "#### Return value: new list of list of integers\n",
    "\n",
    "- numbers = [ 1, 2, 3, 4, 5, 6, 7, 8, 9, 10, 11, 12, 13, 14, 15, 16, 17, 18, 19, 20, 21, 22, 23, 24] \n",
    "- reconstruct_list(rows, cols) will reform the list of list of integers with the number of rows and columns\n",
    "- For example, if rows = 4 and cols = 6, the function will return the following list of list of integers\n",
    "- numbers = [ [1, 2, 3, 4, 5, 6], [7, 8, 9, 10, 11, 12], [13, 14, 15, 16, 17, 18], [19, 20, 21, 22, 23, 24] ]\n",
    "- For example if rows = 2 and cols = 12,\n",
    "- numbers = [ [1, 2, 3, 4, 5, 6, 7, 8, 9, 10, 11, 12], [13, 14, 15, 16, 17, 18, 19, 20, 21, 22, 23, 24] ]\n",
    "- For example if rows = 8 and cols = 3, \n",
    "- numbers = [ [1, 2, 3], [4, 5, 6], [7, 8, 9], [10, 11, 12], [13, 14, 15], [16, 17, 18], [19, 20, 21], [22, 23, 24] ]\n",
    "```\n",
    "def reconstruct_list(numbers, rows, cols):\n",
    "    ################################################### \n",
    "    # code here\n",
    "    ################################################### \n",
    "\n",
    "```\n"
   ]
  },
  {
   "cell_type": "code",
   "execution_count": null,
   "metadata": {},
   "outputs": [],
   "source": [
    "def reconstruct_list(numbers, rows, cols):\n",
    "    ################################################### \n",
    "    # code here\n",
    "    ################################################### \n",
    "\n",
    "numbers = [ 1, 2, 3, 4, 5, 6, 7, 8, 9, 10, 11, 12, 13, 14, 15, 16, 17, 18, 19, 20, 21, 22, 23, 24] \n",
    "new_numbers = reconstruct_list(numbers, 4, 6)\n",
    "print (new_numbers)"
   ]
  },
  {
   "cell_type": "markdown",
   "metadata": {},
   "source": [
    "<mark> Save your file by pressing \"Ctrl+S\" or \"git commit -m \"your message\"\" </mark> "
   ]
  },
  {
   "cell_type": "markdown",
   "metadata": {},
   "source": [
    "***\n",
    "\n",
    "## <p style=\"background-color: grey; color: white \"> ◼️  List </p>\n",
    "# <p style=\"font-family: Arial; font-size:1.4em;color:red;\"> 5. any() and all() \n",
    "\n"
   ]
  },
  {
   "cell_type": "markdown",
   "metadata": {},
   "source": [
    "Use the any() and all() functions to check the elements in the list\n",
    "\n",
    "#### <p style=\"font-family: Arial; font-size:1.4em; background-color: yellow; color:black;\"> Problem #5.1 </p>\n",
    "\n",
    "#### Run the following code segment and figure out the output of the code segment"
   ]
  },
  {
   "cell_type": "code",
   "execution_count": null,
   "metadata": {},
   "outputs": [],
   "source": [
    "numbers = [1, 2, 3, 4, 5, 6, 7, 8, 9, 10]\n",
    "\n",
    "any( x % 2 == 0 for x in numbers)"
   ]
  },
  {
   "cell_type": "code",
   "execution_count": null,
   "metadata": {},
   "outputs": [],
   "source": [
    "all ( x > 0 for x in numbers)"
   ]
  },
  {
   "cell_type": "markdown",
   "metadata": {},
   "source": [
    "Use the any() and all() functions to check the elements in the list\n",
    "\n",
    "#### <p style=\"font-family: Arial; font-size:1.4em; background-color: yellow; color:black;\"> Problem #5.2</p>\n",
    "\n",
    "#### Make the function isSubset(numbers1, numbers2) to check if the numbers1 is a subset of numbers2 \n",
    "- Return True if the numbers1 is a subset of numbers2\n",
    "- Return False otherwise\n",
    "- Use the any() and all() functions to check the elements in the list\n"
   ]
  },
  {
   "cell_type": "code",
   "execution_count": null,
   "metadata": {},
   "outputs": [],
   "source": [
    "def isSubset(numbers1, numbers2):\n",
    "    ################################################### \n",
    "    # code here\n",
    "    ################################################### \n",
    "    \n",
    "\n",
    "numbers1 = [1, 2, 3]\n",
    "numbers2 = [1, 2, 3, 4, 5, 6, 7, 8, 9, 10]\n",
    "print (isSubset(numbers1, numbers2))\n",
    "\n"
   ]
  },
  {
   "cell_type": "markdown",
   "metadata": {},
   "source": [
    "<mark> Save your file by pressing \"Ctrl+S\" or \"git commit -m \"your message\"\" </mark> "
   ]
  }
 ],
 "metadata": {
  "kernelspec": {
   "display_name": "base",
   "language": "python",
   "name": "python3"
  },
  "language_info": {
   "codemirror_mode": {
    "name": "ipython",
    "version": 3
   },
   "file_extension": ".py",
   "mimetype": "text/x-python",
   "name": "python",
   "nbconvert_exporter": "python",
   "pygments_lexer": "ipython3",
   "version": "3.12.4"
  },
  "orig_nbformat": 4
 },
 "nbformat": 4,
 "nbformat_minor": 2
}
